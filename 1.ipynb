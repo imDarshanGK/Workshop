{
 "cells": [
  {
   "cell_type": "code",
   "execution_count": 3,
   "id": "8d6fc03a-d7fb-41a3-84c9-b8a0d6e7936d",
   "metadata": {},
   "outputs": [],
   "source": [
    "#pip install numpy"
   ]
  },
  {
   "cell_type": "code",
   "execution_count": 4,
   "id": "63a21651-6eb7-4d64-8c7e-7793c44d28b0",
   "metadata": {},
   "outputs": [],
   "source": [
    "import numpy as np"
   ]
  },
  {
   "cell_type": "code",
   "execution_count": 7,
   "id": "17d43ff4-0733-4de7-a2aa-4f84e307ae55",
   "metadata": {},
   "outputs": [
    {
     "data": {
      "text/plain": [
       "array([ 86,  99, 151, 169])"
      ]
     },
     "execution_count": 7,
     "metadata": {},
     "output_type": "execute_result"
    }
   ],
   "source": [
    "array1 = np.array([43,45,76,86])\n",
    "array2 = np.array([43,54,75,83])\n",
    "array1 + array2"
   ]
  },
  {
   "cell_type": "code",
   "execution_count": 8,
   "id": "71373098-9220-44e2-911b-f7437f2d8b40",
   "metadata": {},
   "outputs": [
    {
     "name": "stdout",
     "output_type": "stream",
     "text": [
      "[[1. 1. 1.]\n",
      " [1. 1. 1.]]\n"
     ]
    }
   ],
   "source": [
    "array3 = np.ones((2,3))\n",
    "print(array3)"
   ]
  },
  {
   "cell_type": "code",
   "execution_count": 9,
   "id": "3cf9ecf1-9e2e-464f-98b5-5deaed9d3e4f",
   "metadata": {},
   "outputs": [
    {
     "name": "stdout",
     "output_type": "stream",
     "text": [
      "[[0. 0. 0. 0. 0.]\n",
      " [0. 0. 0. 0. 0.]\n",
      " [0. 0. 0. 0. 0.]\n",
      " [0. 0. 0. 0. 0.]]\n"
     ]
    }
   ],
   "source": [
    "array4 = np.zeros((4,5))\n",
    "print(array4)"
   ]
  },
  {
   "cell_type": "code",
   "execution_count": 10,
   "id": "b16e436d-aa8e-4d4e-a150-cde4a2ec3d8e",
   "metadata": {},
   "outputs": [
    {
     "name": "stdout",
     "output_type": "stream",
     "text": [
      "[[1. 0. 0. 0.]\n",
      " [0. 1. 0. 0.]\n",
      " [0. 0. 1. 0.]\n",
      " [0. 0. 0. 1.]]\n"
     ]
    }
   ],
   "source": [
    "array5 = np.eye(4)\n",
    "print(array5)"
   ]
  },
  {
   "cell_type": "code",
   "execution_count": 12,
   "id": "3f47b578-0367-44ca-83ce-36b5b7fd8137",
   "metadata": {},
   "outputs": [
    {
     "name": "stdout",
     "output_type": "stream",
     "text": [
      "[ 4  7 10 13 16 19 22 25 28 31 34 37 40 43 46 49]\n"
     ]
    }
   ],
   "source": [
    "array6 = np.arange(4,50,3)\n",
    "print(array6)"
   ]
  },
  {
   "cell_type": "code",
   "execution_count": 13,
   "id": "3618e38d-88a2-442d-b6d9-9f381bdefcb4",
   "metadata": {},
   "outputs": [
    {
     "name": "stdout",
     "output_type": "stream",
     "text": [
      "[   8   16   24   32   40   48   56   64   72   80   88   96  104  112\n",
      "  120  128  136  144  152  160  168  176  184  192  200  208  216  224\n",
      "  232  240  248  256  264  272  280  288  296  304  312  320  328  336\n",
      "  344  352  360  368  376  384  392  400  408  416  424  432  440  448\n",
      "  456  464  472  480  488  496  504  512  520  528  536  544  552  560\n",
      "  568  576  584  592  600  608  616  624  632  640  648  656  664  672\n",
      "  680  688  696  704  712  720  728  736  744  752  760  768  776  784\n",
      "  792  800  808  816  824  832  840  848  856  864  872  880  888  896\n",
      "  904  912  920  928  936  944  952  960  968  976  984  992 1000 1008\n",
      " 1016 1024 1032 1040 1048 1056 1064 1072 1080 1088 1096 1104 1112 1120\n",
      " 1128 1136 1144 1152 1160 1168 1176 1184 1192 1200 1208 1216 1224 1232\n",
      " 1240 1248 1256 1264 1272 1280 1288 1296 1304 1312 1320 1328 1336 1344\n",
      " 1352 1360 1368 1376 1384 1392 1400 1408 1416 1424 1432 1440 1448 1456\n",
      " 1464 1472 1480 1488 1496 1504 1512 1520 1528 1536 1544 1552 1560 1568\n",
      " 1576 1584 1592 1600 1608 1616 1624 1632 1640 1648 1656 1664 1672 1680\n",
      " 1688 1696 1704 1712 1720 1728 1736 1744 1752 1760 1768 1776 1784 1792\n",
      " 1800 1808 1816 1824 1832 1840 1848 1856 1864 1872 1880 1888 1896 1904\n",
      " 1912 1920 1928 1936 1944 1952 1960 1968 1976 1984 1992]\n"
     ]
    }
   ],
   "source": [
    "array7 = np.arange(8,2000,8)\n",
    "print(array7)"
   ]
  },
  {
   "cell_type": "code",
   "execution_count": 23,
   "id": "16e8d2a5-51a9-44d1-9f9b-040a65cc8ca0",
   "metadata": {},
   "outputs": [
    {
     "data": {
      "text/plain": [
       "1"
      ]
     },
     "execution_count": 23,
     "metadata": {},
     "output_type": "execute_result"
    }
   ],
   "source": [
    "np.ndim(array7)"
   ]
  },
  {
   "cell_type": "code",
   "execution_count": 24,
   "id": "2f0e45d5-23db-4161-a4ce-6acf5b617155",
   "metadata": {},
   "outputs": [],
   "source": [
    "#statistics"
   ]
  },
  {
   "cell_type": "code",
   "execution_count": 25,
   "id": "0fdc7c52-f747-43dc-94de-578a59289d56",
   "metadata": {},
   "outputs": [
    {
     "name": "stdout",
     "output_type": "stream",
     "text": [
      "64.2\n"
     ]
    }
   ],
   "source": [
    "means = np.array([43,45,75,86,72])\n",
    "average = np.mean(means)\n",
    "print(average)"
   ]
  },
  {
   "cell_type": "code",
   "execution_count": 26,
   "id": "4abf17ee-3f88-485f-96f6-0562ece75b43",
   "metadata": {},
   "outputs": [
    {
     "name": "stdout",
     "output_type": "stream",
     "text": [
      "72.0\n"
     ]
    }
   ],
   "source": [
    "medians = np.median(means)\n",
    "print(medians)"
   ]
  },
  {
   "cell_type": "code",
   "execution_count": 27,
   "id": "10655418-27bf-49b5-a1d4-a0e9e60495c8",
   "metadata": {},
   "outputs": [
    {
     "name": "stdout",
     "output_type": "stream",
     "text": [
      "17.151093259614676\n"
     ]
    }
   ],
   "source": [
    "stds = np.std(means)\n",
    "print(stds)"
   ]
  },
  {
   "cell_type": "code",
   "execution_count": 28,
   "id": "115fb2c2-5898-4085-80ca-753275d3a372",
   "metadata": {},
   "outputs": [
    {
     "name": "stdout",
     "output_type": "stream",
     "text": [
      "294.15999999999997\n"
     ]
    }
   ],
   "source": [
    "vari = np.var(means)\n",
    "print(vari)"
   ]
  },
  {
   "cell_type": "code",
   "execution_count": 33,
   "id": "b864106e-d10a-416b-86d9-ef4eb38dc37c",
   "metadata": {},
   "outputs": [],
   "source": [
    "#Random"
   ]
  },
  {
   "cell_type": "code",
   "execution_count": 36,
   "id": "6b32aada-7aa8-4b70-9787-3a8a171f0a2f",
   "metadata": {},
   "outputs": [],
   "source": [
    "from numpy import random as rd"
   ]
  },
  {
   "cell_type": "code",
   "execution_count": 37,
   "id": "c513cb91-2561-4229-88f8-c29bc677c43c",
   "metadata": {},
   "outputs": [
    {
     "name": "stdout",
     "output_type": "stream",
     "text": [
      "53\n"
     ]
    }
   ],
   "source": [
    "rad1 = rd.randint(100)\n",
    "print(rad1)"
   ]
  },
  {
   "cell_type": "code",
   "execution_count": 38,
   "id": "076aa609-31d9-4349-bfc3-edffdf2e0c6d",
   "metadata": {},
   "outputs": [
    {
     "name": "stdout",
     "output_type": "stream",
     "text": [
      "[58 84 87 84 20 61 13 13 31 24]\n"
     ]
    }
   ],
   "source": [
    "rad2 = rd.randint(100,size = 10)\n",
    "print(rad2)"
   ]
  },
  {
   "cell_type": "code",
   "execution_count": 39,
   "id": "d4104aa6-8fbe-49bd-ad17-4681d048f4c6",
   "metadata": {},
   "outputs": [
    {
     "name": "stdout",
     "output_type": "stream",
     "text": [
      "[[28 45  5 98  6]\n",
      " [62 63 25 41  3]\n",
      " [31 21 98 38 88]\n",
      " [79 36 51 83 34]]\n"
     ]
    }
   ],
   "source": [
    "rad3 = rd.randint(100,size = (4,5))\n",
    "print(rad3)"
   ]
  },
  {
   "cell_type": "code",
   "execution_count": 40,
   "id": "35587a79-4491-4d4e-aa1f-734869f4e333",
   "metadata": {},
   "outputs": [
    {
     "name": "stdout",
     "output_type": "stream",
     "text": [
      "[0.44708862 0.30639451 0.77601681 0.63721187 0.61633653 0.64383437\n",
      " 0.55583521 0.4507979  0.8510106  0.68110481]\n"
     ]
    }
   ],
   "source": [
    "rand4 = rd.rand(10)\n",
    "print(rand4)"
   ]
  },
  {
   "cell_type": "code",
   "execution_count": 41,
   "id": "d73a9383-06d6-4f63-bd10-8504012d643e",
   "metadata": {},
   "outputs": [
    {
     "name": "stdout",
     "output_type": "stream",
     "text": [
      "[4.38779405 0.90209292 5.00890074 6.74402481 3.47114781 4.95746161\n",
      " 8.38931967 3.94112776 4.21038249 4.49966515]\n"
     ]
    }
   ],
   "source": [
    "rand5 = 10*(rd.rand(10))\n",
    "print(rand5)"
   ]
  },
  {
   "cell_type": "code",
   "execution_count": 44,
   "id": "8eddc709-cb34-4f14-b308-75f191d8eddf",
   "metadata": {},
   "outputs": [
    {
     "name": "stdout",
     "output_type": "stream",
     "text": [
      "[[44 47 64 67 67]\n",
      " [ 9 83 21 36 87]\n",
      " [70 88 88 12 58]\n",
      " [65 39 87 46 88]]\n"
     ]
    }
   ],
   "source": [
    "rd.seed(0)\n",
    "sim = rd.randint(100, size = (4,5))\n",
    "print(sim)"
   ]
  },
  {
   "cell_type": "code",
   "execution_count": 46,
   "id": "a0021ac6-6ab4-4a7c-9e46-b9b4da85e4e6",
   "metadata": {},
   "outputs": [
    {
     "name": "stdout",
     "output_type": "stream",
     "text": [
      "[[37 12 72  9 75]\n",
      " [ 5 79 64 16  1]\n",
      " [76 71  6 25 50]\n",
      " [20 18 84 11 28]]\n"
     ]
    }
   ],
   "source": [
    "rd.seed(1)\n",
    "sim1 = rd.randint(100, size = (4,5))\n",
    "print(sim1)"
   ]
  },
  {
   "cell_type": "code",
   "execution_count": 49,
   "id": "7bfca52a-5bd8-4a0b-ab81-29ed4147b480",
   "metadata": {},
   "outputs": [
    {
     "name": "stdout",
     "output_type": "stream",
     "text": [
      "[[44 47 64 67 67 37 12 72  9 75]\n",
      " [ 9 83 21 36 87  5 79 64 16  1]\n",
      " [70 88 88 12 58 76 71  6 25 50]\n",
      " [65 39 87 46 88 20 18 84 11 28]]\n"
     ]
    }
   ],
   "source": [
    "mer = np.hstack((sim,sim1))\n",
    "print(mer)"
   ]
  },
  {
   "cell_type": "code",
   "execution_count": 52,
   "id": "f73eec90-6dbd-44c1-bd7e-1bf645a8db58",
   "metadata": {},
   "outputs": [
    {
     "name": "stdout",
     "output_type": "stream",
     "text": [
      "[[44 47 64 67 67]\n",
      " [ 9 83 21 36 87]\n",
      " [70 88 88 12 58]\n",
      " [65 39 87 46 88]\n",
      " [37 12 72  9 75]\n",
      " [ 5 79 64 16  1]\n",
      " [76 71  6 25 50]\n",
      " [20 18 84 11 28]]\n"
     ]
    }
   ],
   "source": [
    "print(np.vstack((sim,sim1)))"
   ]
  },
  {
   "cell_type": "code",
   "execution_count": 53,
   "id": "a92c7410-582b-481e-beba-dcc334d764cf",
   "metadata": {},
   "outputs": [
    {
     "name": "stdout",
     "output_type": "stream",
     "text": [
      "[44 47 64 67 67  9 83 21 36 87 70 88 88 12 58 65 39 87 46 88]\n"
     ]
    }
   ],
   "source": [
    "print(np.hstack((sim)))"
   ]
  },
  {
   "cell_type": "code",
   "execution_count": 54,
   "id": "d19e1fd8-7786-414d-91d7-b8a09cdf2fbc",
   "metadata": {},
   "outputs": [
    {
     "name": "stdout",
     "output_type": "stream",
     "text": [
      "[[44 47 64 67 67]\n",
      " [ 9 83 21 36 87]\n",
      " [70 88 88 12 58]\n",
      " [65 39 87 46 88]]\n"
     ]
    }
   ],
   "source": [
    "print(np.vstack((sim)))"
   ]
  },
  {
   "cell_type": "code",
   "execution_count": null,
   "id": "059363aa-e155-4760-92c4-a68367cb5186",
   "metadata": {},
   "outputs": [],
   "source": []
  }
 ],
 "metadata": {
  "kernelspec": {
   "display_name": "Python 3 (ipykernel)",
   "language": "python",
   "name": "python3"
  },
  "language_info": {
   "codemirror_mode": {
    "name": "ipython",
    "version": 3
   },
   "file_extension": ".py",
   "mimetype": "text/x-python",
   "name": "python",
   "nbconvert_exporter": "python",
   "pygments_lexer": "ipython3",
   "version": "3.11.2"
  }
 },
 "nbformat": 4,
 "nbformat_minor": 5
}
