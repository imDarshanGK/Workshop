{
 "cells": [
  {
   "cell_type": "code",
   "execution_count": 2,
   "id": "67952143-f670-4940-a70d-57caa6a15a8f",
   "metadata": {},
   "outputs": [],
   "source": [
    "#DAY 1"
   ]
  },
  {
   "cell_type": "code",
   "execution_count": 6,
   "id": "ed8897b9-4710-4efc-a79a-d4285d6d9ac0",
   "metadata": {},
   "outputs": [
    {
     "name": "stdout",
     "output_type": "stream",
     "text": [
      "Welcome to my profile.!"
     ]
    },
    {
     "data": {
      "text/plain": [
       "23"
      ]
     },
     "execution_count": 6,
     "metadata": {},
     "output_type": "execute_result"
    }
   ],
   "source": [
    "# Writing a message to the standard output without using a print statement\n",
    "import sys\n",
    "sys.stdout.write(\"Welcome to my profile.!\")\n"
   ]
  },
  {
   "cell_type": "code",
   "execution_count": 7,
   "id": "a1be8dd3-c1f8-45ed-ada3-c2b0febbdaba",
   "metadata": {},
   "outputs": [
    {
     "name": "stdout",
     "output_type": "stream",
     "text": [
      "xyz 19 xyz@gmail.com 12345678999\n"
     ]
    }
   ],
   "source": [
    "#Variables\n",
    "name = \"xyz\"\n",
    "age = 19\n",
    "email = \"xyz@gmail.com\"\n",
    "phone_no = 12345678999\n",
    "print(name,age,email,phone_no)"
   ]
  },
  {
   "cell_type": "code",
   "execution_count": 10,
   "id": "36bd4818-b6bd-4e7b-b399-64d85f2fed32",
   "metadata": {},
   "outputs": [
    {
     "name": "stdout",
     "output_type": "stream",
     "text": [
      "<class 'str'>\n",
      "<class 'int'>\n",
      "<class 'float'>\n"
     ]
    }
   ],
   "source": [
    "#Casting\n",
    "X_value = str(44)\n",
    "Y_value = int(33)\n",
    "Z_value = float(12)\n",
    "print(type(X_value))\n",
    "print(type(Y_value))\n",
    "print(type(Z_value))"
   ]
  },
  {
   "cell_type": "code",
   "execution_count": 11,
   "id": "63c910e3-7c1c-4785-8e2a-0d2a2cddbbe9",
   "metadata": {},
   "outputs": [],
   "source": [
    "#variable_names\n",
    "my_var = \"Lair\"\n",
    "variablename = \"Lair\"\n",
    "my_var = \"Lair\"\n",
    "mYvAr = \"Lair\""
   ]
  },
  {
   "cell_type": "code",
   "execution_count": 13,
   "id": "8e34bf7e-5880-4148-a847-36a8c21bf483",
   "metadata": {},
   "outputs": [],
   "source": [
    "#conventions"
   ]
  },
  {
   "cell_type": "code",
   "execution_count": 14,
   "id": "7e561db9-1b03-4c9d-bd4f-04ba6e14325d",
   "metadata": {},
   "outputs": [],
   "source": [
    "#camel case\n",
    "myCameVariable = \"Lair\""
   ]
  },
  {
   "cell_type": "code",
   "execution_count": 15,
   "id": "1d841353-af81-4fe1-a67d-a4108f720546",
   "metadata": {},
   "outputs": [],
   "source": [
    "#pascal case\n",
    "MyName = \"a\""
   ]
  },
  {
   "cell_type": "code",
   "execution_count": 16,
   "id": "c1bdb5f3-88f8-4f8a-a8f4-725539aed0d2",
   "metadata": {},
   "outputs": [],
   "source": [
    "#snake case\n",
    "my_name_is = \"trip\""
   ]
  },
  {
   "cell_type": "code",
   "execution_count": 18,
   "id": "e3abe893-5620-4596-857a-1e75ffa29bd0",
   "metadata": {},
   "outputs": [
    {
     "name": "stdout",
     "output_type": "stream",
     "text": [
      "Python programming language.\n",
      "Python Python Python\n"
     ]
    }
   ],
   "source": [
    "sd,cd,gd = \"Python\",\"programming\",\"language.\"\n",
    "print(sd,cd,gd)\n",
    "print(sd,sd,sd)"
   ]
  },
  {
   "cell_type": "code",
   "execution_count": 21,
   "id": "b186f1f4-eaa7-4c2c-b2de-40d6f4064d2b",
   "metadata": {},
   "outputs": [
    {
     "name": "stdout",
     "output_type": "stream",
     "text": [
      "Declared asglobal\n"
     ]
    }
   ],
   "source": [
    "#Global and local variable\n",
    "result  = \"global\"\n",
    "def globals():\n",
    "    print(\"Declared as\"+result)\n",
    "globals()"
   ]
  },
  {
   "cell_type": "code",
   "execution_count": 22,
   "id": "25956007-9186-44ed-97ce-7dbe89dae671",
   "metadata": {},
   "outputs": [
    {
     "name": "stdout",
     "output_type": "stream",
     "text": [
      "Declared as global\n"
     ]
    }
   ],
   "source": [
    "result  = \"global\"\n",
    "def globals():\n",
    "    global result\n",
    "    result = \"global\"\n",
    "globals()\n",
    "print(\"Declared as\",result)"
   ]
  },
  {
   "cell_type": "code",
   "execution_count": 23,
   "id": "f45d6630-443c-40ea-b270-56aeca57921c",
   "metadata": {},
   "outputs": [
    {
     "name": "stdout",
     "output_type": "stream",
     "text": [
      "Declared as local\n"
     ]
    }
   ],
   "source": [
    "def locals():\n",
    "    result = \"local\"\n",
    "    print(\"Declared as\",result)\n",
    "locals()"
   ]
  },
  {
   "cell_type": "code",
   "execution_count": null,
   "id": "b8cc132e-cd6a-4c41-a768-30260f1c7989",
   "metadata": {},
   "outputs": [],
   "source": []
  }
 ],
 "metadata": {
  "kernelspec": {
   "display_name": "Python 3 (ipykernel)",
   "language": "python",
   "name": "python3"
  },
  "language_info": {
   "codemirror_mode": {
    "name": "ipython",
    "version": 3
   },
   "file_extension": ".py",
   "mimetype": "text/x-python",
   "name": "python",
   "nbconvert_exporter": "python",
   "pygments_lexer": "ipython3",
   "version": "3.11.2"
  }
 },
 "nbformat": 4,
 "nbformat_minor": 5
}
