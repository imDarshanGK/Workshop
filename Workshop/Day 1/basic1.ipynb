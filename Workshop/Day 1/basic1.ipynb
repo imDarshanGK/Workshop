{
 "cells": [
  {
   "cell_type": "code",
   "execution_count": 1,
   "id": "0f6759da-7d57-48dd-949a-3ddbb4664e24",
   "metadata": {},
   "outputs": [
    {
     "name": "stdout",
     "output_type": "stream",
     "text": [
      "errencesrehf\n"
     ]
    }
   ],
   "source": [
    "def function(fname):\n",
    "    print(fname+\"rehf\")\n",
    "function(\"errences\")"
   ]
  },
  {
   "cell_type": "code",
   "execution_count": 3,
   "id": "d8e82788-7d8e-4fc9-9420-f3aa67526f1a",
   "metadata": {},
   "outputs": [
    {
     "name": "stdout",
     "output_type": "stream",
     "text": [
      "R\n",
      "e\n",
      "f\n",
      "e\n",
      "r\n",
      "r\n",
      "e\n",
      "n\n",
      "c\n",
      "e\n",
      "s\n",
      "Referrencesref\n"
     ]
    }
   ],
   "source": [
    "def function(fname):\n",
    "    for name in fname:\n",
    "        print(name)\n",
    "    print(fname+\"ref\")\n",
    "function(\"Referrences\")"
   ]
  },
  {
   "cell_type": "code",
   "execution_count": 4,
   "id": "bedca31f-4302-433e-9778-bb9b7fcdd2ad",
   "metadata": {},
   "outputs": [
    {
     "name": "stdout",
     "output_type": "stream",
     "text": [
      "20\n",
      "165\n"
     ]
    }
   ],
   "source": [
    "def function(val):\n",
    "    return 5*val\n",
    "print(function(4))\n",
    "print(function(33))"
   ]
  },
  {
   "cell_type": "code",
   "execution_count": 5,
   "id": "01230032-dd68-4ee0-b577-4e93ac17581f",
   "metadata": {},
   "outputs": [
    {
     "name": "stdout",
     "output_type": "stream",
     "text": [
      "Factorial of '6' is  720\n"
     ]
    }
   ],
   "source": [
    "#Factorial\n",
    "\n",
    "num = 6\n",
    "fact = 1\n",
    "if num<0:\n",
    "    print(\"Not possiable\")\n",
    "elif num==0:\n",
    "    print(\"Factorial of O is 1\")\n",
    "else:\n",
    "    for vall in range(1,num+1):\n",
    "        fact = fact * vall\n",
    "    print(f\"Factorial of '{num}' is \",fact)"
   ]
  },
  {
   "cell_type": "code",
   "execution_count": 6,
   "id": "217b32e9-2dad-4c8c-ba0d-c823a257379e",
   "metadata": {},
   "outputs": [
    {
     "data": {
      "text/plain": [
       "20"
      ]
     },
     "execution_count": 6,
     "metadata": {},
     "output_type": "execute_result"
    }
   ],
   "source": [
    "def function(vall):\n",
    "    return 5*vall\n",
    "    print(function(vall))\n",
    "function(4)"
   ]
  },
  {
   "cell_type": "code",
   "execution_count": 7,
   "id": "39ed80af-8130-4d25-b05f-80c557bf62f0",
   "metadata": {},
   "outputs": [
    {
     "name": "stdin",
     "output_type": "stream",
     "text": [
      "Enter you age:  22\n"
     ]
    },
    {
     "name": "stdout",
     "output_type": "stream",
     "text": [
      "Eligible to vote\n"
     ]
    }
   ],
   "source": [
    "age = int(input(\"Enter you age: \"))\n",
    "if age<18:\n",
    "    print(\"Not eligible to vote\")\n",
    "elif age>=18:\n",
    "    print(\"Eligible to vote\")\n",
    "else:\n",
    "    print(\"Invalid values.!\")"
   ]
  },
  {
   "cell_type": "code",
   "execution_count": null,
   "id": "ba6e5ef5-74db-4cdd-96c9-d440a7494e10",
   "metadata": {},
   "outputs": [],
   "source": [
    "num = [1,2,3,4,5]\n",
    "for val in num:\n",
    "    num.remove(val)\n",
    "print(num)"
   ]
  },
  {
   "cell_type": "code",
   "execution_count": null,
   "id": "0db8a3c6-ffb4-4c6b-b747-79ebd3804de8",
   "metadata": {},
   "outputs": [],
   "source": [
    "def number(row):\n",
    "    num = 20\n",
    "    while num <=row:\n",
    "        print(num,end=\"\")\n",
    "        num +=2\n",
    "row = 2\n",
    "print(f\"Numbers from 1 to 20 {10}\")\n",
    "number(row)"
   ]
  },
  {
   "cell_type": "code",
   "execution_count": null,
   "id": "7151a28b-9839-4311-ad51-d2fdda4096c4",
   "metadata": {},
   "outputs": [],
   "source": []
  }
 ],
 "metadata": {
  "kernelspec": {
   "display_name": "Python 3 (ipykernel)",
   "language": "python",
   "name": "python3"
  },
  "language_info": {
   "codemirror_mode": {
    "name": "ipython",
    "version": 3
   },
   "file_extension": ".py",
   "mimetype": "text/x-python",
   "name": "python",
   "nbconvert_exporter": "python",
   "pygments_lexer": "ipython3",
   "version": "3.11.2"
  }
 },
 "nbformat": 4,
 "nbformat_minor": 5
}
