{
 "cells": [
  {
   "cell_type": "code",
   "execution_count": 2,
   "id": "6cdd18c5-a3cd-4f3d-b09e-21ab816871af",
   "metadata": {},
   "outputs": [
    {
     "name": "stdout",
     "output_type": "stream",
     "text": [
      "4\n"
     ]
    }
   ],
   "source": [
    "#opps\n",
    "class myclass():\n",
    "    val = 4\n",
    "pay = myclass()\n",
    "print(pay.val)"
   ]
  },
  {
   "cell_type": "code",
   "execution_count": 4,
   "id": "20bfbc8f-1a0e-4432-852d-1831b56f4239",
   "metadata": {},
   "outputs": [
    {
     "name": "stdout",
     "output_type": "stream",
     "text": [
      "Mark 44\n"
     ]
    }
   ],
   "source": [
    "class person:\n",
    "    def __init__ (self, name, age):\n",
    "        self.name = name\n",
    "        self.age = age\n",
    "persons = person(\"Mark\",44)\n",
    "print(persons.name,persons.age)"
   ]
  },
  {
   "cell_type": "code",
   "execution_count": 14,
   "id": "c137bf89-0228-479d-8356-142de81b94a5",
   "metadata": {},
   "outputs": [
    {
     "name": "stdout",
     "output_type": "stream",
     "text": [
      "[5, 4, 7, 6]\n"
     ]
    }
   ],
   "source": [
    "#List\n",
    "list = [3,4,5,6,7,4,5,6,7,8]\n",
    "print(list[6:2:-1])"
   ]
  },
  {
   "cell_type": "code",
   "execution_count": 20,
   "id": "8b222bcd-b611-462b-b6a0-ebc355a56bf1",
   "metadata": {},
   "outputs": [
    {
     "name": "stdout",
     "output_type": "stream",
     "text": [
      "[1 2 3 5 6 7 7]\n"
     ]
    }
   ],
   "source": [
    "#intialize an array\n",
    "import numpy as np\n",
    "are = np.array((1,2,3,5,6,7,7))\n",
    "print(are)"
   ]
  },
  {
   "cell_type": "code",
   "execution_count": 26,
   "id": "1737e032-6e19-4d7a-8e2c-f0fbb0c08d6e",
   "metadata": {},
   "outputs": [
    {
     "name": "stdout",
     "output_type": "stream",
     "text": [
      "2.0.0\n"
     ]
    }
   ],
   "source": [
    "import numpy\n",
    "print(numpy.__version__)"
   ]
  },
  {
   "cell_type": "code",
   "execution_count": 27,
   "id": "28ed724b-39e0-4463-b1b8-633536116fe9",
   "metadata": {},
   "outputs": [
    {
     "name": "stdout",
     "output_type": "stream",
     "text": [
      "432\n"
     ]
    }
   ],
   "source": [
    "#0-D array\n",
    "import numpy as np\n",
    "num  = np.array(432)\n",
    "print(num)"
   ]
  },
  {
   "cell_type": "code",
   "execution_count": 28,
   "id": "d78aea48-f8f9-4189-b716-e0667b70c189",
   "metadata": {},
   "outputs": [
    {
     "name": "stdout",
     "output_type": "stream",
     "text": [
      "[1 3 4 5 6 7]\n"
     ]
    }
   ],
   "source": [
    "#1-D array\n",
    "import numpy as np\n",
    "char = np.array([1,3,4,5,6,7])\n",
    "print(char)"
   ]
  },
  {
   "cell_type": "code",
   "execution_count": 33,
   "id": "f98e2e5c-5ba5-44f4-b115-938fda3498f1",
   "metadata": {},
   "outputs": [
    {
     "name": "stdout",
     "output_type": "stream",
     "text": [
      "[[10 29 35 40]\n",
      " [35 75 36 79]]\n"
     ]
    }
   ],
   "source": [
    "#3-D array\n",
    "import numpy as np\n",
    "numbers = np.array([[10,29,35,40],[35,75,36,79]])\n",
    "print(numbers)"
   ]
  },
  {
   "cell_type": "code",
   "execution_count": 31,
   "id": "5c4f879d-f943-4200-99b9-f4f337240f00",
   "metadata": {},
   "outputs": [
    {
     "name": "stdout",
     "output_type": "stream",
     "text": [
      "[[1 2 3 4]\n",
      " [3 5 6 7]\n",
      " [5 6 7 8]]\n"
     ]
    }
   ],
   "source": [
    "#3-D array\n",
    "import numpy as np\n",
    "number = np.array([[1,2,3,4],[3,5,6,7],[5,6,7,8]])\n",
    "print(number)"
   ]
  },
  {
   "cell_type": "code",
   "execution_count": 34,
   "id": "e1b5be71-d257-4a92-8fa1-d5fb06266bc1",
   "metadata": {},
   "outputs": [
    {
     "name": "stdout",
     "output_type": "stream",
     "text": [
      "[5 6 7 4]\n",
      "[3 4 5 6 7 4]\n",
      "[5 4]\n"
     ]
    }
   ],
   "source": [
    "#numpy array slicing\n",
    "import numpy as np\n",
    "at = np.array([3,4,5,6,7,4])\n",
    "print(at[2:6])\n",
    "print(at[:6])\n",
    "print(at[2:6:3])\n"
   ]
  },
  {
   "cell_type": "code",
   "execution_count": 35,
   "id": "f2b988f1-bf0f-4a72-bf84-f73cfe0bf26b",
   "metadata": {},
   "outputs": [
    {
     "name": "stdout",
     "output_type": "stream",
     "text": [
      "<U1\n",
      "[b'1' b'2' b'3' b'4' b'5' b'6']\n",
      "|S1\n"
     ]
    }
   ],
   "source": [
    "#data type\n",
    "import numpy as np\n",
    "att = np.array([\"q\",\"r\",\"d\",\"k\"])\n",
    "nam = np.array((1,2,3,4,5,6),dtype = \"S\")\n",
    "print(att.dtype)\n",
    "print(nam)\n",
    "print(nam.dtype)"
   ]
  },
  {
   "cell_type": "code",
   "execution_count": 41,
   "id": "c3160f0b-3934-4003-8617-955a9f4564b5",
   "metadata": {},
   "outputs": [
    {
     "name": "stdout",
     "output_type": "stream",
     "text": [
      "[[ 1 43  5  6]\n",
      " [ 5  6  7  8]]\n",
      "[[ 1  3  5  6]\n",
      " [ 5  6  7 66]]\n"
     ]
    }
   ],
   "source": [
    "#copy of variables\n",
    "import numpy as np\n",
    "aat = np.array([[1,3,5,6],[5,6,7,8]])\n",
    "dat = aat.copy()\n",
    "dat[0,1] = 43\n",
    "aat[1,3] = 66\n",
    "print(dat)\n",
    "print(aat)"
   ]
  },
  {
   "cell_type": "code",
   "execution_count": 42,
   "id": "d174eaa0-4b97-4c33-b117-505eabbedbbc",
   "metadata": {},
   "outputs": [
    {
     "name": "stdout",
     "output_type": "stream",
     "text": [
      "(3, 4)\n"
     ]
    }
   ],
   "source": [
    "# Find no.. of array and element\n",
    "import numpy as np\n",
    "data = np.array([[1,2,3,4],[5,6,7,8],[9,10,11,12]])\n",
    "print(data.shape)"
   ]
  },
  {
   "cell_type": "code",
   "execution_count": 43,
   "id": "8aa3b391-6bd9-4644-b66b-03c862da1e24",
   "metadata": {},
   "outputs": [
    {
     "name": "stdout",
     "output_type": "stream",
     "text": [
      "[[ 1  2  3  4]\n",
      " [ 5  6  7  8]\n",
      " [ 9 10 11 12]]\n"
     ]
    }
   ],
   "source": [
    "#Reshape\n",
    "import numpy as np\n",
    "date = np.array([[1,2,3,4],[5,6,7,8],[9,10,11,12]])\n",
    "reshape = date.reshape(3,4)\n",
    "print(reshape)"
   ]
  },
  {
   "cell_type": "code",
   "execution_count": 45,
   "id": "89189732-2d05-4213-a3ee-c40fba11760b",
   "metadata": {},
   "outputs": [
    {
     "name": "stdout",
     "output_type": "stream",
     "text": [
      "2\n",
      "3\n",
      "4\n",
      "5\n",
      "6\n",
      "7\n"
     ]
    }
   ],
   "source": [
    "#Iteration using for\n",
    "import numpy as np\n",
    "dat = np.array([2,3,4,5,6,7])\n",
    "for bag in dat:\n",
    "    print(bag)"
   ]
  },
  {
   "cell_type": "code",
   "execution_count": null,
   "id": "e30e2f7b-d45a-456f-b1a4-04943dadcd04",
   "metadata": {},
   "outputs": [],
   "source": []
  }
 ],
 "metadata": {
  "kernelspec": {
   "display_name": "Python 3 (ipykernel)",
   "language": "python",
   "name": "python3"
  },
  "language_info": {
   "codemirror_mode": {
    "name": "ipython",
    "version": 3
   },
   "file_extension": ".py",
   "mimetype": "text/x-python",
   "name": "python",
   "nbconvert_exporter": "python",
   "pygments_lexer": "ipython3",
   "version": "3.11.2"
  }
 },
 "nbformat": 4,
 "nbformat_minor": 5
}
